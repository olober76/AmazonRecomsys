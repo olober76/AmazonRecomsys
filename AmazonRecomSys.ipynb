{
 "cells": [
  {
   "cell_type": "markdown",
   "metadata": {},
   "source": [
    "# Laporan Proyek Machine Learning - Duta Kukuh Pribadi"
   ]
  },
  {
   "cell_type": "markdown",
   "metadata": {},
   "source": [
    "## Project Overview\n",
    "\n",
    "Perusahaan E-commerce seperti Amazon menggunakan berbagai sistem rekomendasi untuk memberikan saran kepada pelanggan. Saat ini, Amazon menggunakan penyaringan kolaboratif item-item, yang dapat menangani dataset besar dan menghasilkan sistem rekomendasi berkualitas tinggi secara real-time. dengan pertimbangan kemajuan dunia modern , kita dibanjiri dengan data, dan data ini memberikan kita informasi yang berguna. Namun, tidak mungkin bagi pengguna untuk mengekstrak informasi yang menarik bagi mereka dari data tersebut. Untuk membantu pengguna menemukan informasi tentang produk, sistem rekomendasi dikembangkan. Sistem ini adalah jenis sistem penyaringan informasi yang bertujuan untuk memprediksi \"rating\" atau preferensi yang diminati oleh pengguna.\n",
    "\n",
    "**REFERENSI**\n",
    "\n",
    "[Ups and downs: Modeling the visual evolution of fashion trends with one-class collaborative filtering](https://dl.acm.org/doi/abs/10.1145/2872427.2883037)"
   ]
  },
  {
   "cell_type": "markdown",
   "metadata": {},
   "source": [
    "## Business Understanding\n",
    "\n",
    "Dengan melihat project overview , dapat dijelaskan business understanding sebagai berikut\n",
    "\n",
    "### Problem Statements\n",
    "\n",
    "Problem statement projek ini akan dijabarkan sebagai berikut\n",
    "\n",
    "- Bagaimana kita bisa model sistem rekomendasi agar bisa membantu user dalam mencari produk yang benar ?\n",
    "- Bagaimana kita bisa produk yang bisa menaikan engagement berdasarkan sistem rekomendasi ?\n",
    "\n",
    "### Goals\n",
    "\n",
    "Tujuan dari projek ini dijabarkan sebagaimana berikut\n",
    "\n",
    "- Untuk mengetahui pembuatan sistem rekomendasi agar bisa membantu user dalam mencari produk yang benar\n",
    "- Untuk mengetahui pembuatan produk yang bisa menaikan engagement berdasarkan sistem rekomendasi\n",
    "\n",
    "Semua poin di atas harus diuraikan dengan jelas. Anda bebas menuliskan berapa pernyataan masalah dan juga goals yang diinginkan.\n",
    "\n",
    "### Solution statements\n",
    "\n",
    "Permasalahan dan tujuan di atas , bisa di selesaikan dengan hipotesa sebagai berikut\n",
    "\n",
    "- Membuat Sistem rekomendasi menciptakan kesamaan antara pengguna dan item serta memanfaatkan kesamaan tersebut untuk memberikan rekomendasi berdasarkan tipe Rekomendasi sistem bernama Collaborative Filtering yang mana model Ini didasarkan pada asumsi bahwa orang menyukai hal-hal yang mirip dengan hal-hal lain yang mereka sukai, dan hal-hal yang disukai oleh orang lain dengan selera yang serupa."
   ]
  },
  {
   "cell_type": "markdown",
   "metadata": {},
   "source": [
    "## Data Understanding\n",
    "\n",
    "Dataset ini adalah versi terbaru dari dataset ulasan Amazon yang dirilis pada tahun 2014. Seperti pada versi sebelumnya, dataset ini mencakup ulasan beberapa atribut, dengan pembaharuan sebagai berikut.\n",
    "\n",
    "Lebih banyak ulasan:\n",
    "Jumlah total ulasan adalah 233,1 juta (142,8 juta pada tahun 2014).\n",
    "Ulasan yang lebih baru:\n",
    "Data saat ini mencakup ulasan dalam rentang waktu Mei 1996 - Oktober 2018.\n",
    "\n",
    "**REFERENSI DATASET**\n",
    "[Amazon Product Review](http://jmcauley.ucsd.edu/data/amazon/).\n",
    "\n",
    "\n",
    "\n",
    "Variabel-variabel pada Amazon Product Review dataset adalah sebagai berikut:\n",
    "\n",
    "- **userId** : Every user identified with a unique id (First Column)\n",
    "\n",
    "- **productId** : Every product identified with a unique id(Second Column)\n",
    "\n",
    "- **Rating** : Rating of the corresponding product by the corresponding user(Third Column)\n",
    "\n",
    "- **timestamp** : Time of the rating ( Fourth Column)\n",
    "\n"
   ]
  },
  {
   "cell_type": "markdown",
   "metadata": {},
   "source": [
    "Mari kita mengimport library untuk inisialisasi project\n"
   ]
  },
  {
   "cell_type": "code",
   "execution_count": 39,
   "metadata": {},
   "outputs": [
    {
     "name": "stdout",
     "output_type": "stream",
     "text": [
      "./Dataset\\ratings_Electronics (1).csv\n"
     ]
    }
   ],
   "source": [
    "import numpy as np # linear algebra\n",
    "import pandas as pd # data processing, CSV file I/O (e.g. pd.read_csv)\n",
    "import os\n",
    "from IPython.core.interactiveshell import InteractiveShell\n",
    "InteractiveShell.ast_node_interactivity = \"all\"\n",
    "import math\n",
    "import json\n",
    "import time\n",
    "import matplotlib.pyplot as plt\n",
    "import joblib\n",
    "import seaborn as sns\n",
    "from sklearn.metrics.pairwise import cosine_similarity\n",
    "from sklearn.model_selection import train_test_split\n",
    "from sklearn.neighbors import NearestNeighbors\n",
    "import scipy.sparse\n",
    "from scipy.sparse import csr_matrix\n",
    "from scipy.sparse.linalg import svds\n",
    "import plotly.express as px\n",
    "import warnings; warnings.simplefilter('ignore')\n",
    "%matplotlib inline\n",
    "\n",
    "\n",
    "for dirname, _, filenames in os.walk('./Dataset'):\n",
    "    for filename in filenames:\n",
    "        print(os.path.join(dirname, filename))\n"
   ]
  },
  {
   "cell_type": "markdown",
   "metadata": {},
   "source": [
    "Di sini saya memuat dataset yang sudah saya unduh di local"
   ]
  },
  {
   "cell_type": "code",
   "execution_count": 40,
   "metadata": {},
   "outputs": [],
   "source": [
    "electronics_data=pd.read_csv(\"./Dataset/ratings_Electronics (1).csv\",names=['userId', 'productId','Rating','timestamp'])"
   ]
  },
  {
   "cell_type": "markdown",
   "metadata": {},
   "source": [
    "Display data"
   ]
  },
  {
   "cell_type": "code",
   "execution_count": 41,
   "metadata": {},
   "outputs": [
    {
     "data": {
      "text/html": [
       "<div>\n",
       "<style scoped>\n",
       "    .dataframe tbody tr th:only-of-type {\n",
       "        vertical-align: middle;\n",
       "    }\n",
       "\n",
       "    .dataframe tbody tr th {\n",
       "        vertical-align: top;\n",
       "    }\n",
       "\n",
       "    .dataframe thead th {\n",
       "        text-align: right;\n",
       "    }\n",
       "</style>\n",
       "<table border=\"1\" class=\"dataframe\">\n",
       "  <thead>\n",
       "    <tr style=\"text-align: right;\">\n",
       "      <th></th>\n",
       "      <th>userId</th>\n",
       "      <th>productId</th>\n",
       "      <th>Rating</th>\n",
       "      <th>timestamp</th>\n",
       "    </tr>\n",
       "  </thead>\n",
       "  <tbody>\n",
       "    <tr>\n",
       "      <th>0</th>\n",
       "      <td>AKM1MP6P0OYPR</td>\n",
       "      <td>0132793040</td>\n",
       "      <td>5.0</td>\n",
       "      <td>1365811200</td>\n",
       "    </tr>\n",
       "    <tr>\n",
       "      <th>1</th>\n",
       "      <td>A2CX7LUOHB2NDG</td>\n",
       "      <td>0321732944</td>\n",
       "      <td>5.0</td>\n",
       "      <td>1341100800</td>\n",
       "    </tr>\n",
       "    <tr>\n",
       "      <th>2</th>\n",
       "      <td>A2NWSAGRHCP8N5</td>\n",
       "      <td>0439886341</td>\n",
       "      <td>1.0</td>\n",
       "      <td>1367193600</td>\n",
       "    </tr>\n",
       "    <tr>\n",
       "      <th>3</th>\n",
       "      <td>A2WNBOD3WNDNKT</td>\n",
       "      <td>0439886341</td>\n",
       "      <td>3.0</td>\n",
       "      <td>1374451200</td>\n",
       "    </tr>\n",
       "    <tr>\n",
       "      <th>4</th>\n",
       "      <td>A1GI0U4ZRJA8WN</td>\n",
       "      <td>0439886341</td>\n",
       "      <td>1.0</td>\n",
       "      <td>1334707200</td>\n",
       "    </tr>\n",
       "  </tbody>\n",
       "</table>\n",
       "</div>"
      ],
      "text/plain": [
       "           userId   productId  Rating   timestamp\n",
       "0   AKM1MP6P0OYPR  0132793040     5.0  1365811200\n",
       "1  A2CX7LUOHB2NDG  0321732944     5.0  1341100800\n",
       "2  A2NWSAGRHCP8N5  0439886341     1.0  1367193600\n",
       "3  A2WNBOD3WNDNKT  0439886341     3.0  1374451200\n",
       "4  A1GI0U4ZRJA8WN  0439886341     1.0  1334707200"
      ]
     },
     "execution_count": 41,
     "metadata": {},
     "output_type": "execute_result"
    }
   ],
   "source": [
    "# Display the data\n",
    "\n",
    "electronics_data.head()"
   ]
  },
  {
   "cell_type": "markdown",
   "metadata": {},
   "source": [
    "Melihat shape atau jumlah data\n"
   ]
  },
  {
   "cell_type": "code",
   "execution_count": 42,
   "metadata": {},
   "outputs": [
    {
     "data": {
      "text/plain": [
       "(7824482, 4)"
      ]
     },
     "execution_count": 42,
     "metadata": {},
     "output_type": "execute_result"
    }
   ],
   "source": [
    "#Shape of the data\n",
    "electronics_data.shape"
   ]
  },
  {
   "cell_type": "markdown",
   "metadata": {},
   "source": [
    "terlihat bahwa data memiliki\n",
    "\n",
    "- DataFrame electronics_data memiliki - 7.824.482 baris.\n",
    "- DataFrame tersebut memiliki 4 kolom."
   ]
  },
  {
   "cell_type": "markdown",
   "metadata": {},
   "source": [
    "mengambil subset dataset"
   ]
  },
  {
   "cell_type": "code",
   "execution_count": 43,
   "metadata": {},
   "outputs": [],
   "source": [
    "#Taking subset of the dataset\n",
    "electronics_data=electronics_data.iloc[:1048576,0:]"
   ]
  },
  {
   "cell_type": "markdown",
   "metadata": {},
   "source": [
    "Melihat tipe data di setiap atribut "
   ]
  },
  {
   "cell_type": "code",
   "execution_count": 44,
   "metadata": {},
   "outputs": [
    {
     "data": {
      "text/plain": [
       "userId        object\n",
       "productId     object\n",
       "Rating       float64\n",
       "timestamp      int64\n",
       "dtype: object"
      ]
     },
     "execution_count": 44,
     "metadata": {},
     "output_type": "execute_result"
    }
   ],
   "source": [
    "#Check the datatypes\n",
    "electronics_data.dtypes"
   ]
  },
  {
   "cell_type": "markdown",
   "metadata": {},
   "source": [
    "\n",
    "1. **userId (object)**: Kolom ini berisi data yang menunjukkan ID pengguna, disimpan sebagai tipe data `object`. Dalam Pandas, tipe `object` biasanya digunakan untuk teks atau string, meskipun juga dapat digunakan untuk tipe data campuran.\n",
    "\n",
    "2. **productId (object)**: Kolom ini berisi data yang menunjukkan ID produk, juga disimpan sebagai tipe data `object`. Sama seperti `userId`, tipe ini digunakan untuk teks atau string.\n",
    "\n",
    "3. **Rating (float64)**: Kolom ini berisi data yang menunjukkan penilaian atau rating yang diberikan pengguna terhadap produk, disimpan sebagai tipe data `float64`. Tipe `float64` adalah tipe data angka desimal dalam Pandas, yang memungkinkan penyimpanan nilai desimal dengan presisi tinggi.\n",
    "\n",
    "4. **timestamp (int64)**: Kolom ini berisi data yang menunjukkan waktu (biasanya dalam format Unix timestamp) saat penilaian diberikan, disimpan sebagai tipe data `int64`. Tipe `int64` adalah tipe data bilangan bulat (integer) 64-bit dalam Pandas, yang memungkinkan penyimpanan angka yang sangat besar.\n",
    "\n"
   ]
  },
  {
   "cell_type": "markdown",
   "metadata": {},
   "source": [
    "lalu kita mencari informasi jumlah data dalam tiap attribut "
   ]
  },
  {
   "cell_type": "code",
   "execution_count": 45,
   "metadata": {},
   "outputs": [
    {
     "name": "stdout",
     "output_type": "stream",
     "text": [
      "<class 'pandas.core.frame.DataFrame'>\n",
      "RangeIndex: 1048576 entries, 0 to 1048575\n",
      "Data columns (total 4 columns):\n",
      " #   Column     Non-Null Count    Dtype  \n",
      "---  ------     --------------    -----  \n",
      " 0   userId     1048576 non-null  object \n",
      " 1   productId  1048576 non-null  object \n",
      " 2   Rating     1048576 non-null  float64\n",
      " 3   timestamp  1048576 non-null  int64  \n",
      "dtypes: float64(1), int64(1), object(2)\n",
      "memory usage: 32.0+ MB\n"
     ]
    }
   ],
   "source": [
    "electronics_data.info()"
   ]
  },
  {
   "cell_type": "markdown",
   "metadata": {},
   "source": [
    "\n",
    "1. **<class 'pandas.core.frame.DataFrame'>**: Ini menunjukkan bahwa objek yang sedang dilihat adalah sebuah DataFrame, struktur data utama dalam Pandas untuk penyimpanan data berbentuk tabel.\n",
    "\n",
    "2. **RangeIndex: 1048576 entries, 0 to 1048575**: DataFrame ini memiliki **1.048.576 baris**, dengan indeks mulai dari 0 hingga 1.048.575. `RangeIndex` adalah tipe indeks default yang digunakan oleh Pandas ketika DataFrame dibuat tanpa indeks khusus.\n",
    "\n",
    "3. **Data columns (total 4 columns)**: DataFrame ini memiliki **4 kolom**.\n",
    "\n",
    "4. **Kolom-kolom**:\n",
    "   - **#**: Ini adalah nomor urut kolom dalam DataFrame.\n",
    "   - **Column**: Nama dari masing-masing kolom.\n",
    "   - **Non-Null Count**: Jumlah baris di setiap kolom yang **tidak bernilai `null` (kosong)**. Di sini, setiap kolom memiliki 1.048.576 nilai yang tidak `null`, berarti tidak ada nilai kosong di dalam DataFrame.\n",
    "   - **Dtype**: Tipe data dari setiap kolom.\n",
    "\n",
    "   Berikut detail untuk setiap kolom:\n",
    "   - **userId (object)**: Kolom ini berisi ID pengguna sebagai teks atau string.\n",
    "   - **productId (object)**: Kolom ini berisi ID produk sebagai teks atau string.\n",
    "   - **Rating (float64)**: Kolom ini berisi penilaian pengguna sebagai angka desimal.\n",
    "   - **timestamp (int64)**: Kolom ini berisi waktu (biasanya dalam format Unix timestamp) sebagai bilangan bulat.\n",
    "\n",
    "Informasi ini memberikan gambaran umum tentang ukuran dan struktur DataFrame, termasuk jumlah baris dan kolom, tipe data di setiap kolom, dan apakah ada nilai yang hilang (`null`)."
   ]
  },
  {
   "cell_type": "markdown",
   "metadata": {},
   "source": [
    "melihat statistikal data dari dataset dari column rating"
   ]
  },
  {
   "cell_type": "code",
   "execution_count": 46,
   "metadata": {},
   "outputs": [
    {
     "data": {
      "text/plain": [
       "count    1.048576e+06\n",
       "mean     3.973380e+00\n",
       "std      1.399329e+00\n",
       "min      1.000000e+00\n",
       "25%      3.000000e+00\n",
       "50%      5.000000e+00\n",
       "75%      5.000000e+00\n",
       "max      5.000000e+00\n",
       "Name: Rating, dtype: float64"
      ]
     },
     "execution_count": 46,
     "metadata": {},
     "output_type": "execute_result"
    }
   ],
   "source": [
    "#Five point summary \n",
    "\n",
    "electronics_data.describe()['Rating'].T"
   ]
  },
  {
   "cell_type": "markdown",
   "metadata": {},
   "source": [
    "melihat nilai minimal dari rating yang diberikan dan nilai maksimalnya "
   ]
  },
  {
   "cell_type": "code",
   "execution_count": 47,
   "metadata": {},
   "outputs": [
    {
     "name": "stdout",
     "output_type": "stream",
     "text": [
      "Minimum rating is: 1\n",
      "Maximum rating is: 5\n"
     ]
    }
   ],
   "source": [
    "#Find the minimum and maximum ratings\n",
    "print('Minimum rating is: %d' %(electronics_data.Rating.min()))\n",
    "print('Maximum rating is: %d' %(electronics_data.Rating.max()))"
   ]
  },
  {
   "cell_type": "markdown",
   "metadata": {},
   "source": [
    "diketahui di sini nilai minimal 1, dan nilai rating maksimal adalah 5"
   ]
  },
  {
   "cell_type": "markdown",
   "metadata": {},
   "source": [
    "### Handling Missing Values\n",
    "\n",
    "disini saya melihat data yang bernilai null"
   ]
  },
  {
   "cell_type": "code",
   "execution_count": 48,
   "metadata": {},
   "outputs": [
    {
     "name": "stdout",
     "output_type": "stream",
     "text": [
      "Number of missing values across columns: \n",
      " userId       0\n",
      "productId    0\n",
      "Rating       0\n",
      "timestamp    0\n",
      "dtype: int64\n"
     ]
    }
   ],
   "source": [
    "#Check for missing values\n",
    "print('Number of missing values across columns: \\n',electronics_data.isnull().sum())"
   ]
  },
  {
   "cell_type": "markdown",
   "metadata": {},
   "source": [
    "terlihat bahwa tidak ada null value dalam  tiap columns"
   ]
  },
  {
   "cell_type": "markdown",
   "metadata": {},
   "source": [
    "### Visualisasi Data Columns Rating \n",
    "disini kita nge cek distribusi rating "
   ]
  },
  {
   "cell_type": "code",
   "execution_count": 49,
   "metadata": {},
   "outputs": [
    {
     "data": {
      "text/plain": [
       "<seaborn.axisgrid.FacetGrid at 0x15194d15900>"
      ]
     },
     "execution_count": 49,
     "metadata": {},
     "output_type": "execute_result"
    },
    {
     "data": {
      "image/png": "[encoded data removed]",
      "text/plain": [
       "<Figure size 1011.11x500 with 1 Axes>"
      ]
     },
     "metadata": {},
     "output_type": "display_data"
    }
   ],
   "source": [
    "# Membuat plot distribusi rating\n",
    "with sns.axes_style('white'):\n",
    "    g = sns.catplot(x=\"Rating\", data=electronics_data, aspect=2.0, kind='count')\n",
    "    g.set_ylabels(\"Total number of ratings\")"
   ]
  },
  {
   "cell_type": "markdown",
   "metadata": {},
   "source": [
    "kebanyakan user menilai 5 pada jumlah melebihi 500K"
   ]
  },
  {
   "cell_type": "markdown",
   "metadata": {},
   "source": [
    "### Unique Users and products\n",
    "\n",
    "melihat distribusi unique user dan produknya"
   ]
  },
  {
   "cell_type": "code",
   "execution_count": 50,
   "metadata": {},
   "outputs": [
    {
     "name": "stdout",
     "output_type": "stream",
     "text": [
      "Total data \n",
      "--------------------------------------------------\n",
      "\n",
      "Total no of ratings : 1048576\n",
      "Total No of Users   : 786330\n",
      "Total No of products  : 61894\n"
     ]
    }
   ],
   "source": [
    "print(\"Total data \")\n",
    "print(\"-\"*50)\n",
    "print(\"\\nTotal no of ratings :\",electronics_data.shape[0])\n",
    "print(\"Total No of Users   :\", len(np.unique(electronics_data.userId)))\n",
    "print(\"Total No of products  :\", len(np.unique(electronics_data.productId)))"
   ]
  },
  {
   "cell_type": "markdown",
   "metadata": {},
   "source": [
    "### Dropping the TimeStamp Column\n",
    "disini saya mengbuang column timestamp"
   ]
  },
  {
   "cell_type": "code",
   "execution_count": 51,
   "metadata": {},
   "outputs": [],
   "source": [
    "#Dropping the Timestamp column\n",
    "\n",
    "electronics_data.drop(['timestamp'], axis=1,inplace=True)"
   ]
  },
  {
   "cell_type": "markdown",
   "metadata": {},
   "source": [
    "menamilkan head dari `electronics_data`"
   ]
  },
  {
   "cell_type": "code",
   "execution_count": 52,
   "metadata": {},
   "outputs": [
    {
     "data": {
      "text/html": [
       "<div>\n",
       "<style scoped>\n",
       "    .dataframe tbody tr th:only-of-type {\n",
       "        vertical-align: middle;\n",
       "    }\n",
       "\n",
       "    .dataframe tbody tr th {\n",
       "        vertical-align: top;\n",
       "    }\n",
       "\n",
       "    .dataframe thead th {\n",
       "        text-align: right;\n",
       "    }\n",
       "</style>\n",
       "<table border=\"1\" class=\"dataframe\">\n",
       "  <thead>\n",
       "    <tr style=\"text-align: right;\">\n",
       "      <th></th>\n",
       "      <th>userId</th>\n",
       "      <th>productId</th>\n",
       "      <th>Rating</th>\n",
       "    </tr>\n",
       "  </thead>\n",
       "  <tbody>\n",
       "    <tr>\n",
       "      <th>0</th>\n",
       "      <td>AKM1MP6P0OYPR</td>\n",
       "      <td>0132793040</td>\n",
       "      <td>5.0</td>\n",
       "    </tr>\n",
       "    <tr>\n",
       "      <th>1</th>\n",
       "      <td>A2CX7LUOHB2NDG</td>\n",
       "      <td>0321732944</td>\n",
       "      <td>5.0</td>\n",
       "    </tr>\n",
       "    <tr>\n",
       "      <th>2</th>\n",
       "      <td>A2NWSAGRHCP8N5</td>\n",
       "      <td>0439886341</td>\n",
       "      <td>1.0</td>\n",
       "    </tr>\n",
       "    <tr>\n",
       "      <th>3</th>\n",
       "      <td>A2WNBOD3WNDNKT</td>\n",
       "      <td>0439886341</td>\n",
       "      <td>3.0</td>\n",
       "    </tr>\n",
       "    <tr>\n",
       "      <th>4</th>\n",
       "      <td>A1GI0U4ZRJA8WN</td>\n",
       "      <td>0439886341</td>\n",
       "      <td>1.0</td>\n",
       "    </tr>\n",
       "  </tbody>\n",
       "</table>\n",
       "</div>"
      ],
      "text/plain": [
       "           userId   productId  Rating\n",
       "0   AKM1MP6P0OYPR  0132793040     5.0\n",
       "1  A2CX7LUOHB2NDG  0321732944     5.0\n",
       "2  A2NWSAGRHCP8N5  0439886341     1.0\n",
       "3  A2WNBOD3WNDNKT  0439886341     3.0\n",
       "4  A1GI0U4ZRJA8WN  0439886341     1.0"
      ]
     },
     "execution_count": 52,
     "metadata": {},
     "output_type": "execute_result"
    }
   ],
   "source": [
    "electronics_data.head()"
   ]
  },
  {
   "cell_type": "markdown",
   "metadata": {},
   "source": [
    "terlihat disini timestamp dibuang"
   ]
  },
  {
   "cell_type": "markdown",
   "metadata": {},
   "source": [
    "### Analyzing the rating"
   ]
  },
  {
   "cell_type": "code",
   "execution_count": 53,
   "metadata": {},
   "outputs": [
    {
     "data": {
      "text/plain": [
       "userId\n",
       "A5JLAU2ARJ0BO     412\n",
       "A231WM2Z2JL0U3    249\n",
       "A25HBO5V8S8SEA    164\n",
       "A6FIAB28IS79      146\n",
       "AT6CZDCP4TRGA     128\n",
       "Name: Rating, dtype: int64"
      ]
     },
     "execution_count": 53,
     "metadata": {},
     "output_type": "execute_result"
    }
   ],
   "source": [
    "#Analysis of rating given by the user \n",
    "\n",
    "no_of_rated_products_per_user = electronics_data.groupby(by='userId')['Rating'].count().sort_values(ascending=False)\n",
    "\n",
    "no_of_rated_products_per_user.head()"
   ]
  },
  {
   "cell_type": "markdown",
   "metadata": {},
   "source": [
    "diisi terlihat ada user dengan rating atau ulasan terbanyak sebanyak 400 lebih ulasan"
   ]
  },
  {
   "cell_type": "code",
   "execution_count": 54,
   "metadata": {},
   "outputs": [
    {
     "data": {
      "text/plain": [
       "<Figure size 1000x600 with 0 Axes>"
      ]
     },
     "execution_count": 54,
     "metadata": {},
     "output_type": "execute_result"
    },
    {
     "data": {
      "text/plain": [
       "<BarContainer object of 10 artists>"
      ]
     },
     "execution_count": 54,
     "metadata": {},
     "output_type": "execute_result"
    },
    {
     "data": {
      "text/plain": [
       "Text(0.5, 0, 'User ID')"
      ]
     },
     "execution_count": 54,
     "metadata": {},
     "output_type": "execute_result"
    },
    {
     "data": {
      "text/plain": [
       "Text(0, 0.5, 'Jumlah Produk Dirating')"
      ]
     },
     "execution_count": 54,
     "metadata": {},
     "output_type": "execute_result"
    },
    {
     "data": {
      "text/plain": [
       "Text(0.5, 1.0, 'Top 10 Pengguna dengan Jumlah Rating Terbanyak')"
      ]
     },
     "execution_count": 54,
     "metadata": {},
     "output_type": "execute_result"
    },
    {
     "data": {
      "text/plain": [
       "([0, 1, 2, 3, 4, 5, 6, 7, 8, 9],\n",
       " [Text(0, 0, 'A5JLAU2ARJ0BO'),\n",
       "  Text(1, 0, 'A231WM2Z2JL0U3'),\n",
       "  Text(2, 0, 'A25HBO5V8S8SEA'),\n",
       "  Text(3, 0, 'A6FIAB28IS79'),\n",
       "  Text(4, 0, 'AT6CZDCP4TRGA'),\n",
       "  Text(5, 0, 'AKT8TGIT6VVZ5'),\n",
       "  Text(6, 0, 'A11D1KHM7DVOQK'),\n",
       "  Text(7, 0, 'A2B7BUH8834Y6M'),\n",
       "  Text(8, 0, 'A3OXHLG6DIBRW8'),\n",
       "  Text(9, 0, 'A203OCQQ12MAVT')])"
      ]
     },
     "execution_count": 54,
     "metadata": {},
     "output_type": "execute_result"
    },
    {
     "data": {
      "image/png": "[encoded data removed]",
      "text/plain": [
       "<Figure size 1000x600 with 1 Axes>"
      ]
     },
     "metadata": {},
     "output_type": "display_data"
    }
   ],
   "source": [
    "# Mengambil 10 pengguna dengan jumlah rating terbanyak\n",
    "top_users = no_of_rated_products_per_user.head(10)\n",
    "\n",
    "# Membuat bar diagram\n",
    "plt.figure(figsize=(10, 6))\n",
    "plt.bar(top_users.index, top_users.values, color='skyblue')\n",
    "plt.xlabel('User ID')\n",
    "plt.ylabel('Jumlah Produk Dirating')\n",
    "plt.title('Top 10 Pengguna dengan Jumlah Rating Terbanyak')\n",
    "plt.xticks(rotation=45, ha='right')  # Memutar label sumbu x agar lebih mudah dibaca\n",
    "plt.tight_layout()\n",
    "\n",
    "# Menampilkan bar diagram\n",
    "plt.show()"
   ]
  },
  {
   "cell_type": "markdown",
   "metadata": {},
   "source": [
    "disini terlihat distribusi dari rating yang diberikan ke masing masing user ID, terlihat bahwa A5JLAU2ARJ0BO memiliki rating paling banyak"
   ]
  },
  {
   "cell_type": "markdown",
   "metadata": {},
   "source": [
    "melihat data statistical dari rating per user"
   ]
  },
  {
   "cell_type": "code",
   "execution_count": 55,
   "metadata": {},
   "outputs": [
    {
     "data": {
      "text/plain": [
       "count    786330.000000\n",
       "mean          1.333506\n",
       "std           1.385612\n",
       "min           1.000000\n",
       "25%           1.000000\n",
       "50%           1.000000\n",
       "75%           1.000000\n",
       "max         412.000000\n",
       "Name: Rating, dtype: float64"
      ]
     },
     "execution_count": 55,
     "metadata": {},
     "output_type": "execute_result"
    }
   ],
   "source": [
    "no_of_rated_products_per_user.describe()"
   ]
  },
  {
   "cell_type": "markdown",
   "metadata": {},
   "source": [
    "menghitung quantile dari distribusi jumlah produk yang telah dinilai oleh setiap pengguna."
   ]
  },
  {
   "cell_type": "code",
   "execution_count": 56,
   "metadata": {},
   "outputs": [],
   "source": [
    "quantiles = no_of_rated_products_per_user.quantile(np.arange(0,1.01,0.01), interpolation='higher')"
   ]
  },
  {
   "cell_type": "code",
   "execution_count": 57,
   "metadata": {},
   "outputs": [
    {
     "data": {
      "text/plain": [
       "<Figure size 1000x1000 with 0 Axes>"
      ]
     },
     "execution_count": 57,
     "metadata": {},
     "output_type": "execute_result"
    },
    {
     "data": {
      "text/plain": [
       "Text(0.5, 1.0, 'Quantiles and their Values')"
      ]
     },
     "execution_count": 57,
     "metadata": {},
     "output_type": "execute_result"
    },
    {
     "data": {
      "text/plain": [
       "<Axes: title={'center': 'Quantiles and their Values'}>"
      ]
     },
     "execution_count": 57,
     "metadata": {},
     "output_type": "execute_result"
    },
    {
     "data": {
      "text/plain": [
       "<matplotlib.collections.PathCollection at 0x151e22df730>"
      ]
     },
     "execution_count": 57,
     "metadata": {},
     "output_type": "execute_result"
    },
    {
     "data": {
      "text/plain": [
       "<matplotlib.collections.PathCollection at 0x151e2315d80>"
      ]
     },
     "execution_count": 57,
     "metadata": {},
     "output_type": "execute_result"
    },
    {
     "data": {
      "text/plain": [
       "Text(0, 0.5, 'No of ratings by user')"
      ]
     },
     "execution_count": 57,
     "metadata": {},
     "output_type": "execute_result"
    },
    {
     "data": {
      "text/plain": [
       "Text(0.5, 0, 'Value at the quantile')"
      ]
     },
     "execution_count": 57,
     "metadata": {},
     "output_type": "execute_result"
    },
    {
     "data": {
      "text/plain": [
       "<matplotlib.legend.Legend at 0x151e22c7f40>"
      ]
     },
     "execution_count": 57,
     "metadata": {},
     "output_type": "execute_result"
    },
    {
     "data": {
      "image/png": "[encoded data removed]",
      "text/plain": [
       "<Figure size 1000x1000 with 1 Axes>"
      ]
     },
     "metadata": {},
     "output_type": "display_data"
    }
   ],
   "source": [
    "plt.figure(figsize=(10,10))\n",
    "plt.title(\"Quantiles and their Values\")\n",
    "quantiles.plot()\n",
    "# quantiles with 0.05 difference\n",
    "plt.scatter(x=quantiles.index[::5], y=quantiles.values[::5], c='orange', label=\"quantiles with 0.05 intervals\")\n",
    "# quantiles with 0.25 difference\n",
    "plt.scatter(x=quantiles.index[::25], y=quantiles.values[::25], c='m', label = \"quantiles with 0.25 intervals\")\n",
    "plt.ylabel('No of ratings by user')\n",
    "plt.xlabel('Value at the quantile')\n",
    "plt.legend(loc='best')\n",
    "plt.show()"
   ]
  },
  {
   "cell_type": "markdown",
   "metadata": {},
   "source": [
    "terlihat dari quantile 1 yang melebihi dari 400 rating user\n",
    "\n",
    "Grafik ini menunjukkan bahwa distribusi rating pengguna sangat tidak merata. Sebagian kecil pengguna memberikan banyak sekali rating (yang terlihat dari lompatan curam di akhir grafik), sementara sebagian besar pengguna memberikan rating dalam jumlah kecil.\n",
    "\n",
    "\n",
    "\n",
    "\n",
    "\n",
    "\n"
   ]
  },
  {
   "cell_type": "code",
   "execution_count": 58,
   "metadata": {},
   "outputs": [
    {
     "name": "stdout",
     "output_type": "stream",
     "text": [
      "\n",
      " No of rated product more than 50 per user : 38\n",
      "\n"
     ]
    }
   ],
   "source": [
    "print('\\n No of rated product more than 50 per user : {}\\n'.format(sum(no_of_rated_products_per_user >= 50)) )"
   ]
  },
  {
   "cell_type": "markdown",
   "metadata": {},
   "source": [
    "dari understanding data di atas, saya membuat variable baru dengan  memuat data user yang memberikan rating lebih dari 50 untuk selanjutnya dibuat dalam modelling"
   ]
  },
  {
   "cell_type": "code",
   "execution_count": 59,
   "metadata": {},
   "outputs": [
    {
     "data": {
      "text/html": [
       "<div>\n",
       "<style scoped>\n",
       "    .dataframe tbody tr th:only-of-type {\n",
       "        vertical-align: middle;\n",
       "    }\n",
       "\n",
       "    .dataframe tbody tr th {\n",
       "        vertical-align: top;\n",
       "    }\n",
       "\n",
       "    .dataframe thead th {\n",
       "        text-align: right;\n",
       "    }\n",
       "</style>\n",
       "<table border=\"1\" class=\"dataframe\">\n",
       "  <thead>\n",
       "    <tr style=\"text-align: right;\">\n",
       "      <th></th>\n",
       "      <th>userId</th>\n",
       "      <th>productId</th>\n",
       "      <th>Rating</th>\n",
       "    </tr>\n",
       "  </thead>\n",
       "  <tbody>\n",
       "    <tr>\n",
       "      <th>183</th>\n",
       "      <td>A1BKC6B7YHYTVV</td>\n",
       "      <td>0972683275</td>\n",
       "      <td>4.0</td>\n",
       "    </tr>\n",
       "    <tr>\n",
       "      <th>184</th>\n",
       "      <td>AWVFSIB42LHKJ</td>\n",
       "      <td>0972683275</td>\n",
       "      <td>4.0</td>\n",
       "    </tr>\n",
       "    <tr>\n",
       "      <th>185</th>\n",
       "      <td>A36MQBNADRH8YY</td>\n",
       "      <td>0972683275</td>\n",
       "      <td>5.0</td>\n",
       "    </tr>\n",
       "    <tr>\n",
       "      <th>186</th>\n",
       "      <td>A3SRXMPLAEZ6DP</td>\n",
       "      <td>0972683275</td>\n",
       "      <td>4.0</td>\n",
       "    </tr>\n",
       "    <tr>\n",
       "      <th>187</th>\n",
       "      <td>A20XXTXWF2TCPY</td>\n",
       "      <td>0972683275</td>\n",
       "      <td>5.0</td>\n",
       "    </tr>\n",
       "  </tbody>\n",
       "</table>\n",
       "</div>"
      ],
      "text/plain": [
       "             userId   productId  Rating\n",
       "183  A1BKC6B7YHYTVV  0972683275     4.0\n",
       "184   AWVFSIB42LHKJ  0972683275     4.0\n",
       "185  A36MQBNADRH8YY  0972683275     5.0\n",
       "186  A3SRXMPLAEZ6DP  0972683275     4.0\n",
       "187  A20XXTXWF2TCPY  0972683275     5.0"
      ]
     },
     "execution_count": 59,
     "metadata": {},
     "output_type": "execute_result"
    }
   ],
   "source": [
    "#Getting the new dataframe which contains users who has given 50 or more ratings\n",
    "\n",
    "new_df=electronics_data.groupby(\"productId\").filter(lambda x:x['Rating'].count() >=50)\n",
    "new_df.head()"
   ]
  },
  {
   "cell_type": "markdown",
   "metadata": {},
   "source": [
    "lalu saya visualisasikan jumlah rating per **produk**"
   ]
  },
  {
   "cell_type": "code",
   "execution_count": 60,
   "metadata": {},
   "outputs": [
    {
     "data": {
      "text/plain": [
       "[<matplotlib.lines.Line2D at 0x151e2866740>]"
      ]
     },
     "execution_count": 60,
     "metadata": {},
     "output_type": "execute_result"
    },
    {
     "data": {
      "text/plain": [
       "Text(0.5, 1.0, '# RATINGS per Product')"
      ]
     },
     "execution_count": 60,
     "metadata": {},
     "output_type": "execute_result"
    },
    {
     "data": {
      "text/plain": [
       "Text(0.5, 0, 'Product')"
      ]
     },
     "execution_count": 60,
     "metadata": {},
     "output_type": "execute_result"
    },
    {
     "data": {
      "text/plain": [
       "Text(0, 0.5, 'No of ratings per product')"
      ]
     },
     "execution_count": 60,
     "metadata": {},
     "output_type": "execute_result"
    },
    {
     "data": {
      "text/plain": [
       "[Text(-500.0, 0, ''),\n",
       " Text(0.0, 0, ''),\n",
       " Text(500.0, 0, ''),\n",
       " Text(1000.0, 0, ''),\n",
       " Text(1500.0, 0, ''),\n",
       " Text(2000.0, 0, ''),\n",
       " Text(2500.0, 0, ''),\n",
       " Text(3000.0, 0, ''),\n",
       " Text(3500.0, 0, ''),\n",
       " Text(4000.0, 0, ''),\n",
       " Text(4500.0, 0, '')]"
      ]
     },
     "execution_count": 60,
     "metadata": {},
     "output_type": "execute_result"
    },
    {
     "data": {
      "image/png": "[encoded data removed]",
      "text/plain": [
       "<Figure size 960x480 with 1 Axes>"
      ]
     },
     "metadata": {},
     "output_type": "display_data"
    }
   ],
   "source": [
    "no_of_ratings_per_product = new_df.groupby(by='productId')['Rating'].count().sort_values(ascending=False)\n",
    "\n",
    "fig = plt.figure(figsize=plt.figaspect(.5))\n",
    "ax = plt.gca()\n",
    "plt.plot(no_of_ratings_per_product.values)\n",
    "plt.title('# RATINGS per Product')\n",
    "plt.xlabel('Product')\n",
    "plt.ylabel('No of ratings per product')\n",
    "ax.set_xticklabels([])\n",
    "\n",
    "plt.show()"
   ]
  },
  {
   "cell_type": "markdown",
   "metadata": {},
   "source": [
    "menampilkan rata rata nilai ulasan dari dataframe baru"
   ]
  },
  {
   "cell_type": "code",
   "execution_count": 61,
   "metadata": {},
   "outputs": [
    {
     "data": {
      "text/plain": [
       "productId\n",
       "0972683275    4.470980\n",
       "1400501466    3.560000\n",
       "1400501520    4.243902\n",
       "1400501776    3.884892\n",
       "1400532620    3.684211\n",
       "Name: Rating, dtype: float64"
      ]
     },
     "execution_count": 61,
     "metadata": {},
     "output_type": "execute_result"
    }
   ],
   "source": [
    "#Average rating of the product \n",
    "\n",
    "new_df.groupby('productId')['Rating'].mean().head()"
   ]
  },
  {
   "cell_type": "markdown",
   "metadata": {},
   "source": [
    "lalu saya urutkan secara ascending "
   ]
  },
  {
   "cell_type": "code",
   "execution_count": 62,
   "metadata": {},
   "outputs": [
    {
     "data": {
      "text/plain": [
       "productId\n",
       "B0000DYV9H    4.947368\n",
       "B000053HC5    4.945783\n",
       "B00009R96C    4.885714\n",
       "B00005LE76    4.879310\n",
       "B000I1X3W8    4.869565\n",
       "Name: Rating, dtype: float64"
      ]
     },
     "execution_count": 62,
     "metadata": {},
     "output_type": "execute_result"
    }
   ],
   "source": [
    "new_df.groupby('productId')['Rating'].mean().sort_values(ascending=False).head()"
   ]
  },
  {
   "cell_type": "markdown",
   "metadata": {},
   "source": [
    "disini beberapa produk memiliki rata rata rating yang tinggi , sebanyak 5 rating"
   ]
  },
  {
   "cell_type": "markdown",
   "metadata": {},
   "source": [
    "menampilkan total rating per tiap produk"
   ]
  },
  {
   "cell_type": "code",
   "execution_count": 63,
   "metadata": {},
   "outputs": [
    {
     "data": {
      "text/plain": [
       "productId\n",
       "B0002L5R78    9487\n",
       "B0001FTVEK    5345\n",
       "B000I68BD4    4903\n",
       "B000BQ7GW8    4275\n",
       "B00007E7JU    3523\n",
       "Name: Rating, dtype: int64"
      ]
     },
     "execution_count": 63,
     "metadata": {},
     "output_type": "execute_result"
    }
   ],
   "source": [
    "#Total no of rating for product\n",
    "\n",
    "new_df.groupby('productId')['Rating'].count().sort_values(ascending=False).head()"
   ]
  },
  {
   "cell_type": "markdown",
   "metadata": {},
   "source": [
    "selanjutnya saya membuat sebuah DataFrame bernama `ratings_mean_count` yang berisi informasi rata-rata rating dan jumlah rating untuk setiap produk berdasarkan `productId`. Langkah pertama, `new_df.groupby('productId')['Rating'].mean()` menghitung rata-rata rating untuk setiap produk dan menyimpannya sebagai kolom `Rating` dalam DataFrame. Selanjutnya, `new_df.groupby('productId')['Rating'].count()` menghitung jumlah rating yang diterima oleh setiap produk dan menyimpannya sebagai kolom baru bernama `rating_counts` di dalam DataFrame yang sama. Hasil akhirnya adalah DataFrame `ratings_mean_count` yang menggabungkan rata-rata rating dan jumlah rating untuk setiap produk, yang kemudian ditampilkan menggunakan `head()` untuk melihat beberapa baris pertama."
   ]
  },
  {
   "cell_type": "code",
   "execution_count": 64,
   "metadata": {},
   "outputs": [
    {
     "data": {
      "text/html": [
       "<div>\n",
       "<style scoped>\n",
       "    .dataframe tbody tr th:only-of-type {\n",
       "        vertical-align: middle;\n",
       "    }\n",
       "\n",
       "    .dataframe tbody tr th {\n",
       "        vertical-align: top;\n",
       "    }\n",
       "\n",
       "    .dataframe thead th {\n",
       "        text-align: right;\n",
       "    }\n",
       "</style>\n",
       "<table border=\"1\" class=\"dataframe\">\n",
       "  <thead>\n",
       "    <tr style=\"text-align: right;\">\n",
       "      <th></th>\n",
       "      <th>Rating</th>\n",
       "      <th>rating_counts</th>\n",
       "    </tr>\n",
       "    <tr>\n",
       "      <th>productId</th>\n",
       "      <th></th>\n",
       "      <th></th>\n",
       "    </tr>\n",
       "  </thead>\n",
       "  <tbody>\n",
       "    <tr>\n",
       "      <th>0972683275</th>\n",
       "      <td>4.470980</td>\n",
       "      <td>1051</td>\n",
       "    </tr>\n",
       "    <tr>\n",
       "      <th>1400501466</th>\n",
       "      <td>3.560000</td>\n",
       "      <td>250</td>\n",
       "    </tr>\n",
       "    <tr>\n",
       "      <th>1400501520</th>\n",
       "      <td>4.243902</td>\n",
       "      <td>82</td>\n",
       "    </tr>\n",
       "    <tr>\n",
       "      <th>1400501776</th>\n",
       "      <td>3.884892</td>\n",
       "      <td>139</td>\n",
       "    </tr>\n",
       "    <tr>\n",
       "      <th>1400532620</th>\n",
       "      <td>3.684211</td>\n",
       "      <td>171</td>\n",
       "    </tr>\n",
       "  </tbody>\n",
       "</table>\n",
       "</div>"
      ],
      "text/plain": [
       "              Rating  rating_counts\n",
       "productId                          \n",
       "0972683275  4.470980           1051\n",
       "1400501466  3.560000            250\n",
       "1400501520  4.243902             82\n",
       "1400501776  3.884892            139\n",
       "1400532620  3.684211            171"
      ]
     },
     "execution_count": 64,
     "metadata": {},
     "output_type": "execute_result"
    }
   ],
   "source": [
    "ratings_mean_count = pd.DataFrame(new_df.groupby('productId')['Rating'].mean())\n",
    "ratings_mean_count['rating_counts'] = pd.DataFrame(new_df.groupby('productId')['Rating'].count())\n",
    "ratings_mean_count.head()"
   ]
  },
  {
   "cell_type": "markdown",
   "metadata": {},
   "source": [
    "visualisasi distribusi variable `ratings_mean_count`"
   ]
  },
  {
   "cell_type": "code",
   "execution_count": 65,
   "metadata": {},
   "outputs": [
    {
     "data": {
      "text/plain": [
       "<Figure size 800x600 with 0 Axes>"
      ]
     },
     "execution_count": 65,
     "metadata": {},
     "output_type": "execute_result"
    },
    {
     "data": {
      "text/plain": [
       "<Axes: >"
      ]
     },
     "execution_count": 65,
     "metadata": {},
     "output_type": "execute_result"
    },
    {
     "data": {
      "image/png": "[encoded data removed]",
      "text/plain": [
       "<Figure size 800x600 with 1 Axes>"
      ]
     },
     "metadata": {},
     "output_type": "display_data"
    }
   ],
   "source": [
    "plt.figure(figsize=(8,6))\n",
    "plt.rcParams['patch.force_edgecolor'] = True\n",
    "ratings_mean_count['rating_counts'].hist(bins=50)"
   ]
  },
  {
   "cell_type": "markdown",
   "metadata": {},
   "source": [
    "melihat persebaran banyaknya nilai rating dari skala 1 sampai 5"
   ]
  },
  {
   "cell_type": "code",
   "execution_count": 66,
   "metadata": {},
   "outputs": [
    {
     "data": {
      "text/plain": [
       "<Figure size 800x600 with 0 Axes>"
      ]
     },
     "execution_count": 66,
     "metadata": {},
     "output_type": "execute_result"
    },
    {
     "data": {
      "text/plain": [
       "<Axes: >"
      ]
     },
     "execution_count": 66,
     "metadata": {},
     "output_type": "execute_result"
    },
    {
     "data": {
      "image/png": "[encoded data removed]",
      "text/plain": [
       "<Figure size 800x600 with 1 Axes>"
      ]
     },
     "metadata": {},
     "output_type": "display_data"
    }
   ],
   "source": [
    "plt.figure(figsize=(8,6))\n",
    "plt.rcParams['patch.force_edgecolor'] = True\n",
    "ratings_mean_count['Rating'].hist(bins=50)"
   ]
  },
  {
   "cell_type": "markdown",
   "metadata": {},
   "source": [
    "menggunakan `jointplot` agar tahu persebaran lebih presisi"
   ]
  },
  {
   "cell_type": "code",
   "execution_count": 67,
   "metadata": {},
   "outputs": [
    {
     "data": {
      "text/plain": [
       "<Figure size 800x600 with 0 Axes>"
      ]
     },
     "execution_count": 67,
     "metadata": {},
     "output_type": "execute_result"
    },
    {
     "data": {
      "text/plain": [
       "<seaborn.axisgrid.JointGrid at 0x151e348bdc0>"
      ]
     },
     "execution_count": 67,
     "metadata": {},
     "output_type": "execute_result"
    },
    {
     "data": {
      "text/plain": [
       "<Figure size 800x600 with 0 Axes>"
      ]
     },
     "metadata": {},
     "output_type": "display_data"
    },
    {
     "data": {
      "image/png": "[encoded data removed]",
      "text/plain": [
       "<Figure size 600x600 with 3 Axes>"
      ]
     },
     "metadata": {},
     "output_type": "display_data"
    }
   ],
   "source": [
    "plt.figure(figsize=(8,6))\n",
    "plt.rcParams['patch.force_edgecolor'] = True\n",
    "sns.jointplot(x='Rating', y='rating_counts', data=ratings_mean_count, alpha=0.4)"
   ]
  },
  {
   "cell_type": "markdown",
   "metadata": {},
   "source": [
    "melihat banyaknya rating per produk"
   ]
  },
  {
   "cell_type": "code",
   "execution_count": 68,
   "metadata": {},
   "outputs": [
    {
     "data": {
      "text/plain": [
       "<Axes: xlabel='productId'>"
      ]
     },
     "execution_count": 68,
     "metadata": {},
     "output_type": "execute_result"
    },
    {
     "data": {
      "image/png": "[encoded data removed]",
      "text/plain": [
       "<Figure size 640x480 with 1 Axes>"
      ]
     },
     "metadata": {},
     "output_type": "display_data"
    }
   ],
   "source": [
    "popular_products = pd.DataFrame(new_df.groupby('productId')['Rating'].count())\n",
    "most_popular = popular_products.sort_values('Rating', ascending=False)\n",
    "most_popular.head(30).plot(kind = \"bar\")"
   ]
  },
  {
   "cell_type": "markdown",
   "metadata": {},
   "source": [
    "setelah mengetahui karakteristik data yang diambil, maka saya langsung ke tahap data preparation"
   ]
  },
  {
   "cell_type": "markdown",
   "metadata": {},
   "source": [
    "## Data Preparation"
   ]
  },
  {
   "cell_type": "code",
   "execution_count": 69,
   "metadata": {},
   "outputs": [],
   "source": [
    "from surprise import KNNWithMeans\n",
    "from surprise import Dataset\n",
    "from surprise import accuracy\n",
    "from surprise import Reader\n",
    "import os\n",
    "from surprise.model_selection import train_test_split"
   ]
  },
  {
   "cell_type": "markdown",
   "metadata": {},
   "source": [
    "### Reading and Splitting Dataset"
   ]
  },
  {
   "cell_type": "markdown",
   "metadata": {},
   "source": [
    "disini mencoba untuk ngeload dataframe baru hasil dari modifikasi di dataset understandingnya "
   ]
  },
  {
   "cell_type": "code",
   "execution_count": 70,
   "metadata": {},
   "outputs": [],
   "source": [
    "#Reading the dataset\n",
    "reader = Reader(rating_scale=(1, 5))\n",
    "data = Dataset.load_from_df(new_df,reader)"
   ]
  },
  {
   "cell_type": "markdown",
   "metadata": {},
   "source": [
    "lalu akan displit datasetnya di sini menjadi `trainset` dan `testset`"
   ]
  },
  {
   "cell_type": "code",
   "execution_count": 71,
   "metadata": {},
   "outputs": [],
   "source": [
    "#Splitting the dataset\n",
    "trainset, testset = train_test_split(data, test_size=0.3,random_state=10)"
   ]
  },
  {
   "cell_type": "markdown",
   "metadata": {},
   "source": [
    "## Modeling"
   ]
  },
  {
   "cell_type": "markdown",
   "metadata": {},
   "source": [
    "merujuk pada artikel \n",
    "\n",
    "[Adaptive KNN-Based Extended Collaborative Filtering Recommendation Services](https://www.mdpi.com/2504-2289/7/2/106#:~:text=The%20KNN%2Dbased%20collaborative%20filtering%20algorithm%20is%20a%20type%20of,users%20to%20the%20target%20user.)\n",
    "\n",
    "saya menggunakan model KNN karena efektif dalam menggenerasi Top-N recommendations"
   ]
  },
  {
   "cell_type": "code",
   "execution_count": 72,
   "metadata": {},
   "outputs": [
    {
     "name": "stdout",
     "output_type": "stream",
     "text": [
      "Estimating biases using als...\n",
      "Computing the pearson_baseline similarity matrix...\n",
      "Done computing similarity matrix.\n"
     ]
    },
    {
     "data": {
      "text/plain": [
       "<surprise.prediction_algorithms.knns.KNNWithMeans at 0x1518b7d1720>"
      ]
     },
     "execution_count": 72,
     "metadata": {},
     "output_type": "execute_result"
    }
   ],
   "source": [
    "algo = KNNWithMeans(k=5, sim_options={'name': 'pearson_baseline', 'user_based': False})\n",
    "algo.fit(trainset)"
   ]
  },
  {
   "cell_type": "markdown",
   "metadata": {},
   "source": [
    "## Evaluation"
   ]
  },
  {
   "cell_type": "markdown",
   "metadata": {},
   "source": [
    "saya menjalankan model yang sudah di train ke testset"
   ]
  },
  {
   "cell_type": "code",
   "execution_count": 73,
   "metadata": {},
   "outputs": [],
   "source": [
    "# run the trained model against the testset\n",
    "test_pred = algo.test(testset)"
   ]
  },
  {
   "cell_type": "code",
   "execution_count": 74,
   "metadata": {},
   "outputs": [
    {
     "name": "stdout",
     "output_type": "stream",
     "text": [
      "Item-based Model : Test Set\n",
      "RMSE: 1.3436\n"
     ]
    },
    {
     "data": {
      "text/plain": [
       "1.343641161111319"
      ]
     },
     "execution_count": 74,
     "metadata": {},
     "output_type": "execute_result"
    }
   ],
   "source": [
    "# get RMSE\n",
    "print(\"Item-based Model : Test Set\")\n",
    "accuracy.rmse(test_pred, verbose=True)"
   ]
  },
  {
   "cell_type": "markdown",
   "metadata": {},
   "source": [
    "Nilai RMSE sebesar 1.343641161111319 memberi indikasi tentang seberapa baik model dalam memprediksi rating. Untuk menganalisis nilai ini, kita perlu mempertimbangkan beberapa aspek:\n",
    "\n",
    "1. **Skala Rating**\n",
    "   - Jika skala rating adalah dari 1 hingga 5 (seperti pada kebanyakan sistem rekomendasi), RMSE sekitar 1.34 menunjukkan bahwa rata-rata kesalahan prediksi model sekitar 1.34 unit dari nilai sebenarnya. Ini berarti prediksi model sering kali meleset lebih dari satu poin pada skala rating.\n",
    "\n",
    "2. **Perbandingan dengan Baseline**\n",
    "   - Bandingkan nilai RMSE ini dengan baseline model, seperti model yang memprediksi rating rata-rata untuk semua item atau pengguna. Jika RMSE jauh lebih rendah daripada baseline, ini adalah indikasi positif bahwa model menangkap pola dalam data lebih baik daripada model sederhana.\n",
    "\n",
    "3. **Implementasi Model**\n",
    "   - Dalam beberapa aplikasi, RMSE sekitar 1.34 mungkin dianggap cukup baik, terutama jika data memiliki banyak noise atau jika preferensi pengguna sangat beragam. Namun, dalam aplikasi yang memerlukan prediksi yang sangat akurat (misalnya, sistem rekomendasi kritis), mungkin ingin mencoba menurunkan RMSE lebih jauh.\n",
    "\n",
    "\n",
    "4. **Interpretasi Keseluruhan**\n",
    "   - Secara keseluruhan, RMSE sebesar 1.34 adalah indikasi bahwa model cukup baik, tetapi mungkin ada ruang untuk perbaikan tergantung pada tujuan dan kebutuhan aplikasi Anda. Jika dibandingkan dengan model baseline dan model lain, nilai ini dapat memberikan lebih banyak konteks apakah model memadai atau memerlukan perbaikan lebih lanjut."
   ]
  },
  {
   "cell_type": "code",
   "execution_count": 75,
   "metadata": {},
   "outputs": [
    {
     "name": "stdout",
     "output_type": "stream",
     "text": [
      "Item-based Model : Test Set\n",
      "MAE:  1.0505\n"
     ]
    },
    {
     "data": {
      "text/plain": [
       "1.0504772827976332"
      ]
     },
     "execution_count": 75,
     "metadata": {},
     "output_type": "execute_result"
    }
   ],
   "source": [
    "from surprise import accuracy\n",
    "\n",
    "# Get MAE\n",
    "print(\"Item-based Model : Test Set\")\n",
    "accuracy.mae(test_pred, verbose=True)"
   ]
  },
  {
   "cell_type": "markdown",
   "metadata": {},
   "source": [
    "Nilai MAE (Mean Absolute Error) sebesar 1.0505 memberikan indikasi tentang rata-rata kesalahan absolut antara prediksi model dan nilai sebenarnya. Mari kita analisis lebih lanjut:\n",
    "\n",
    "1. **Skala Rating**\n",
    "   - Jika skala rating yang gunakan adalah dari 1 hingga 5, maka nilai MAE sebesar 1.05 menunjukkan bahwa, secara rata-rata, prediksi model meleset sekitar 1.05 unit dari nilai sebenarnya. Ini berarti bahwa prediksi model biasanya berada dalam jarak sekitar satu poin dari rating aktual.\n",
    "\n",
    "2. **Perbandingan dengan RMSE**\n",
    "   - MAE lebih mudah diinterpretasikan daripada RMSE karena tidak memberikan penalti lebih besar untuk kesalahan yang besar. Dengan MAE sebesar 1.05 dan RMSE sebesar 1.34, dapat dikatakan bahwa meskipun ada beberapa kesalahan besar yang memengaruhi RMSE, rata-rata kesalahan absolut tetap berada di sekitar 1.05. Ini menunjukkan bahwa kebanyakan prediksi model berada dalam jarak yang cukup konsisten dari nilai sebenarnya, namun ada beberapa outlier atau kesalahan besar yang meningkatkan RMSE.\n",
    "\n",
    "3. **Konteks Aplikasi**\n",
    "   - Dalam konteks sistem rekomendasi, MAE sebesar 1.05 pada skala 1 hingga 5 berarti prediksi masih bisa ditingkatkan. Idealnya, menginginkan MAE yang mendekati 0, yang menunjukkan prediksi yang sangat dekat dengan rating sebenarnya. Namun, nilai MAE ini tidak terlalu buruk, terutama jika data mengandung banyak noise atau jika pengguna memiliki preferensi yang sangat beragam.\n",
    "\n",
    "4. **Interpretasi Keseluruhan**\n",
    "   - MAE sebesar 1.05 menunjukkan bahwa model memiliki kesalahan prediksi yang cukup signifikan, tetapi tidak ekstrem. Ada ruang untuk perbaikan, terutama jika akurasi prediksi sangat penting dalam konteks aplikasi Anda. Bandingkan dengan baseline atau model lain yang coba untuk menentukan apakah model ini sudah cukup baik atau perlu ditingkatkan lebih lanjut."
   ]
  },
  {
   "cell_type": "code",
   "execution_count": 76,
   "metadata": {},
   "outputs": [
    {
     "name": "stdout",
     "output_type": "stream",
     "text": [
      "Estimating biases using als...\n",
      "Computing the pearson_baseline similarity matrix...\n",
      "Done computing similarity matrix.\n",
      "Estimating biases using als...\n",
      "Computing the pearson_baseline similarity matrix...\n",
      "Done computing similarity matrix.\n",
      "Estimating biases using als...\n",
      "Computing the pearson_baseline similarity matrix...\n",
      "Done computing similarity matrix.\n",
      "Estimating biases using als...\n",
      "Computing the pearson_baseline similarity matrix...\n",
      "Done computing similarity matrix.\n",
      "Estimating biases using als...\n",
      "Computing the pearson_baseline similarity matrix...\n",
      "Done computing similarity matrix.\n",
      "Evaluating RMSE, MAE of algorithm KNNWithMeans on 5 split(s).\n",
      "\n",
      "                  Fold 1  Fold 2  Fold 3  Fold 4  Fold 5  Mean    Std     \n",
      "RMSE (testset)    1.3397  1.3442  1.3473  1.3381  1.3370  1.3413  0.0039  \n",
      "MAE (testset)     1.0447  1.0494  1.0514  1.0450  1.0439  1.0469  0.0030  \n",
      "Fit time          2.89    2.80    3.41    3.11    3.34    3.11    0.24    \n",
      "Test time         1.29    0.70    0.76    0.70    0.71    0.83    0.23    \n"
     ]
    }
   ],
   "source": [
    "from surprise.model_selection import cross_validate\n",
    "\n",
    "# Perform cross-validation\n",
    "results = cross_validate(algo, data, measures=['RMSE', 'MAE'], cv=5, verbose=True)"
   ]
  },
  {
   "cell_type": "markdown",
   "metadata": {},
   "source": [
    "dan berikut adalah grafik dari rmse dan mae"
   ]
  },
  {
   "cell_type": "code",
   "execution_count": 77,
   "metadata": {},
   "outputs": [
    {
     "data": {
      "text/plain": [
       "<Figure size 1000x500 with 0 Axes>"
      ]
     },
     "execution_count": 77,
     "metadata": {},
     "output_type": "execute_result"
    },
    {
     "data": {
      "text/plain": [
       "[<matplotlib.lines.Line2D at 0x151e3469ba0>]"
      ]
     },
     "execution_count": 77,
     "metadata": {},
     "output_type": "execute_result"
    },
    {
     "data": {
      "text/plain": [
       "[<matplotlib.lines.Line2D at 0x151e346a0b0>]"
      ]
     },
     "execution_count": 77,
     "metadata": {},
     "output_type": "execute_result"
    },
    {
     "data": {
      "text/plain": [
       "Text(0.5, 1.0, 'Comparison of RMSE and MAE')"
      ]
     },
     "execution_count": 77,
     "metadata": {},
     "output_type": "execute_result"
    },
    {
     "data": {
      "text/plain": [
       "Text(0.5, 0, 'Fold')"
      ]
     },
     "execution_count": 77,
     "metadata": {},
     "output_type": "execute_result"
    },
    {
     "data": {
      "text/plain": [
       "Text(0, 0.5, 'Error')"
      ]
     },
     "execution_count": 77,
     "metadata": {},
     "output_type": "execute_result"
    },
    {
     "data": {
      "text/plain": [
       "<matplotlib.legend.Legend at 0x151e23165c0>"
      ]
     },
     "execution_count": 77,
     "metadata": {},
     "output_type": "execute_result"
    },
    {
     "data": {
      "image/png": "[encoded data removed]",
      "text/plain": [
       "<Figure size 1000x500 with 1 Axes>"
      ]
     },
     "metadata": {},
     "output_type": "display_data"
    }
   ],
   "source": [
    "# Ambil nilai RMSE dan MAE dari hasil cross-validation\n",
    "rmse_cv = results['test_rmse']\n",
    "mae_cv = results['test_mae']\n",
    "\n",
    "# Plot hasil evaluasi\n",
    "plt.figure(figsize=(10, 5))\n",
    "\n",
    "# Plot RMSE\n",
    "plt.plot(rmse_cv, label='RMSE', marker='o')\n",
    "\n",
    "# Plot MAE\n",
    "plt.plot(mae_cv, label='MAE', marker='o')\n",
    "\n",
    "plt.title('Comparison of RMSE and MAE')\n",
    "plt.xlabel('Fold')\n",
    "plt.ylabel('Error')\n",
    "plt.legend()\n",
    "plt.grid(True)\n",
    "plt.show()"
   ]
  },
  {
   "cell_type": "markdown",
   "metadata": {},
   "source": [
    "Analisis hasil cross-validation ini memberikan gambaran tentang performa model di berbagai lipatan (fold) dari data. Mari kita telaah setiap metrik yang diberikan:\n",
    "\n",
    "1. **RMSE (Root Mean Square Error)**\n",
    "   - **Fold Values**: Nilai RMSE pada setiap lipatan berkisar antara 1.3371 hingga 1.3453. Ini menunjukkan bahwa performa model cukup konsisten di berbagai subset data.\n",
    "   - **Mean**: Rata-rata RMSE sebesar 1.3417 menunjukkan bahwa, secara keseluruhan, kesalahan kuadrat rata-rata model berada di sekitar 1.34 unit dari nilai sebenarnya. Ini konsisten dengan analisis sebelumnya, di mana RMSE sekitar 1.34 berarti model cenderung meleset sekitar 1.34 unit pada skala rating.\n",
    "   - **Standard Deviation (Std)**: Nilai standar deviasi sebesar 0.0036 sangat kecil, menunjukkan bahwa performa model sangat stabil di berbagai lipatan. Model tidak terlalu sensitif terhadap perubahan data, yang merupakan pertanda baik.\n",
    "\n",
    "2. **MAE (Mean Absolute Error)**\n",
    "   - **Fold Values**: Nilai MAE pada setiap lipatan berkisar antara 1.0438 hingga 1.0504, menunjukkan bahwa kesalahan absolut rata-rata cukup konsisten di seluruh lipatan.\n",
    "   - **Mean**: Rata-rata MAE sebesar 1.0470 berarti bahwa, secara rata-rata, prediksi model meleset sekitar 1.05 unit dari nilai sebenarnya. Ini sejalan dengan analisis sebelumnya bahwa MAE ini mengindikasikan kesalahan prediksi yang moderat tetapi tidak ekstrem.\n",
    "   - **Standard Deviation (Std)**: Standar deviasi sebesar 0.0027 juga sangat kecil, menegaskan bahwa kesalahan absolut rata-rata stabil di seluruh subset data yang diuji.\n",
    "\n",
    "3. **Fit Time**\n",
    "   - **Fold Values**: Waktu pelatihan (fit time) berkisar antara 2.94 detik hingga 3.72 detik per lipatan. Variasi ini mungkin disebabkan oleh perbedaan beban komputasi atau kinerja sistem pada saat pelatihan.\n",
    "   - **Mean**: Rata-rata waktu pelatihan sebesar 3.28 detik menunjukkan bahwa model membutuhkan waktu yang cukup singkat untuk dilatih pada setiap subset data.\n",
    "   - **Standard Deviation (Std)**: Standar deviasi sebesar 0.29 detik menunjukkan adanya variasi kecil dalam waktu pelatihan, tetapi ini tidak signifikan dan masih dalam batas yang dapat diterima.\n",
    "\n",
    "4. **Test Time**\n",
    "   - **Fold Values**: Waktu pengujian (test time) berkisar antara 0.72 detik hingga 0.80 detik per lipatan, yang menunjukkan konsistensi dalam kecepatan evaluasi model.\n",
    "   - **Mean**: Rata-rata waktu pengujian sebesar 0.75 detik menunjukkan bahwa model memprediksi dengan cepat pada subset data uji.\n",
    "   - **Standard Deviation (Std)**: Standar deviasi sebesar 0.03 detik sangat kecil, menunjukkan waktu pengujian yang sangat stabil dan konsisten di berbagai lipatan.\n",
    "\n",
    "**Kesimpulan Cross Validation**\n",
    "- **Konsistensi**: Nilai RMSE dan MAE yang sangat konsisten di seluruh lipatan menunjukkan bahwa model cukup stabil dan tidak terlalu dipengaruhi oleh variasi data. Standar deviasi yang rendah memperkuat kepercayaan dalam hasil model.\n",
    "- **Performansi**: Meskipun nilai RMSE dan MAE mengindikasikan bahwa model memiliki kesalahan prediksi yang moderat, konsistensi model di berbagai lipatan adalah pertanda positif. bisa mencoba meningkatkan performa model dengan tuning hyperparameter lebih lanjut atau dengan mencoba metode lain.\n",
    "- **Efisiensi**: Waktu pelatihan dan pengujian yang singkat dan konsisten menunjukkan bahwa model ini efisien dalam hal komputasi, yang penting untuk aplikasi yang membutuhkan respons cepat.\n",
    "\n",
    "Secara keseluruhan, model ini tampaknya stabil dan efisien, meskipun mungkin masih ada ruang untuk perbaikan dalam hal akurasi prediksi."
   ]
  },
  {
   "cell_type": "markdown",
   "metadata": {},
   "source": [
    "## Kesimpulan \n",
    "\n",
    "Untuk menjawab apakah model yang buat telah memenuhi tujuan dalam problem statement proyek, mari kita tinjau kedua poin dari problem statement dan hubungkan dengan hasil cross-validation yang peroleh:\n",
    "\n",
    "1. **Membantu User Mencari Produk yang Benar**\n",
    "   - **Analisis RMSE dan MAE**: Hasil cross-validation menunjukkan bahwa model memiliki RMSE sekitar 1.3417 dan MAE sekitar 1.0470. Ini menunjukkan bahwa model memiliki kesalahan prediksi rata-rata sekitar 1 poin pada skala rating 1 hingga 5. Jika tujuan utama adalah membantu pengguna menemukan produk yang benar, maka akurasi ini mungkin sudah cukup baik, tetapi bergantung pada konteks spesifik:\n",
    "     - Jika pengguna cenderung puas dengan prediksi yang akurat dalam selisih sekitar 1 poin, model ini mungkin sudah cukup memadai.\n",
    "     - Namun, jika aplikasi memerlukan prediksi yang sangat akurat untuk meningkatkan pengalaman pengguna, mungkin perlu mengoptimalkan model lebih lanjut untuk menurunkan nilai RMSE dan MAE.\n",
    "\n",
    "2. **Meningkatkan Engagement Berdasarkan Rekomendasi**\n",
    "   - **Kaitan dengan Engagement**: Meningkatkan engagement melalui sistem rekomendasi tidak hanya bergantung pada akurasi prediksi, tetapi juga pada relevansi dan personalisasi rekomendasi. RMSE dan MAE yang rendah membantu\n",
    "   \n",
    "**Penutup**\n",
    "- **Kualitas Rekomendasi**: Berdasarkan nilai RMSE dan MAE, model cukup baik dalam memberikan rekomendasi yang akurat, tetapi mungkin ada ruang untuk perbaikan.\n",
    "\n",
    "\n",
    "Jika engagement dan kepuasan pengguna adalah kunci keberhasilan proyek ini, pertimbangan tambahan ini akan sangat penting untuk memastikan bahwa model memenuhi tujuan secara menyeluruh.\n",
    "\n",
    "### Referensi\n",
    "\n",
    "[Nguyen, Luong Vuong, Quoc-Trinh Vo, and Tri-Hai Nguyen. \"Adaptive knn-based extended collaborative filtering recommendation services.\" Big Data and Cognitive Computing 7.2 (2023): 106.](https://www.mdpi.com/2504-2289/7/2/106#:~:text=The%20KNN%2Dbased%20collaborative%20filtering%20algorithm%20is%20a%20type%20of,users%20to%20the%20target%20user.)\n"
   ]
  }
 ],
 "metadata": {
  "kernelspec": {
   "display_name": "recomSys",
   "language": "python",
   "name": "python3"
  },
  "language_info": {
   "codemirror_mode": {
    "name": "ipython",
    "version": 3
   },
   "file_extension": ".py",
   "mimetype": "text/x-python",
   "name": "python",
   "nbconvert_exporter": "python",
   "pygments_lexer": "ipython3",
   "version": "3.10.14"
  }
 },
 "nbformat": 4,
 "nbformat_minor": 2
}
