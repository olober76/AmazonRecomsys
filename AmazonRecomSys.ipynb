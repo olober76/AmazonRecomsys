{
 "cells": [
  {
   "cell_type": "markdown",
   "metadata": {},
   "source": [
    "# Laporan Proyek Machine Learning - Duta Kukuh Pribadi"
   ]
  },
  {
   "cell_type": "markdown",
   "metadata": {},
   "source": [
    "## Project Overview\n",
    "\n",
    "Perusahaan E-commerce seperti Amazon menggunakan berbagai sistem rekomendasi untuk memberikan saran kepada pelanggan. Saat ini, Amazon menggunakan penyaringan kolaboratif item-item, yang dapat menangani dataset besar dan menghasilkan sistem rekomendasi berkualitas tinggi secara real-time. dengan pertimbangan kemajuan dunia modern , kita dibanjiri dengan data, dan data ini memberikan kita informasi yang berguna. Namun, tidak mungkin bagi pengguna untuk mengekstrak informasi yang menarik bagi mereka dari data tersebut. Untuk membantu pengguna menemukan informasi tentang produk, sistem rekomendasi dikembangkan. Sistem ini adalah jenis sistem penyaringan informasi yang bertujuan untuk memprediksi \"rating\" atau preferensi yang diminati oleh pengguna.\n",
    "\n",
    "**REFERENSI**\n",
    "\n",
    "[Ups and downs: Modeling the visual evolution of fashion trends with one-class collaborative filtering](https://dl.acm.org/doi/abs/10.1145/2872427.2883037)"
   ]
  },
  {
   "cell_type": "markdown",
   "metadata": {},
   "source": [
    "## Business Understanding\n",
    "\n",
    "Dengan melihat project overview , dapat dijelaskan business understanding sebagai berikut\n",
    "\n",
    "### Problem Statements\n",
    "\n",
    "Problem statement projek ini akan dijabarkan sebagai berikut\n",
    "\n",
    "- Bagaimana kita bisa model sistem rekomendasi agar bisa membantu user dalam mencari produk yang benar ?\n",
    "- Bagaimana kita bisa produk yang bisa menaikan engagement berdasarkan sistem rekomendasi ?\n",
    "\n",
    "### Goals\n",
    "\n",
    "Tujuan dari projek ini dijabarkan sebagaimana berikut\n",
    "\n",
    "- Untuk mengetahui pembuatan sistem rekomendasi agar bisa membantu user dalam mencari produk yang benar\n",
    "- Untuk mengetahui pembuatan produk yang bisa menaikan engagement berdasarkan sistem rekomendasi\n",
    "\n",
    "Semua poin di atas harus diuraikan dengan jelas. Anda bebas menuliskan berapa pernyataan masalah dan juga goals yang diinginkan.\n",
    "\n",
    "### Solution statements\n",
    "\n",
    "Permasalahan dan tujuan di atas , bisa di selesaikan dengan hipotesa sebagai berikut\n",
    "\n",
    "- Membuat Sistem rekomendasi menciptakan kesamaan antara pengguna dan item serta memanfaatkan kesamaan tersebut untuk memberikan rekomendasi berdasarkan tipe Rekomendasi sistem bernama Collaborative Filtering yang mana model Ini didasarkan pada asumsi bahwa orang menyukai hal-hal yang mirip dengan hal-hal lain yang mereka sukai, dan hal-hal yang disukai oleh orang lain dengan selera yang serupa."
   ]
  },
  {
   "cell_type": "markdown",
   "metadata": {},
   "source": [
    "## Data Understanding\n",
    "\n",
    "Dataset ini adalah versi terbaru dari dataset ulasan Amazon yang dirilis pada tahun 2014. Seperti pada versi sebelumnya, dataset ini mencakup ulasan beberapa atribut, dengan pembaharuan sebagai berikut.\n",
    "\n",
    "Lebih banyak ulasan:\n",
    "Jumlah total ulasan adalah 233,1 juta (142,8 juta pada tahun 2014).\n",
    "Ulasan yang lebih baru:\n",
    "Data saat ini mencakup ulasan dalam rentang waktu Mei 1996 - Oktober 2018.\n",
    "\n",
    "**REFERENSI DATASET**\n",
    "[Amazon Product Review](http://jmcauley.ucsd.edu/data/amazon/).\n",
    "\n",
    "\n",
    "\n",
    "Variabel-variabel pada Amazon Product Review dataset adalah sebagai berikut:\n",
    "\n",
    "- **userId** : Every user identified with a unique id (First Column)\n",
    "\n",
    "- **productId** : Every product identified with a unique id(Second Column)\n",
    "\n",
    "- **Rating** : Rating of the corresponding product by the corresponding user(Third Column)\n",
    "\n",
    "- **timestamp** : Time of the rating ( Fourth Column)\n",
    "\n"
   ]
  },
  {
   "cell_type": "markdown",
   "metadata": {},
   "source": [
    "Mari kita mengimport library untuk inisialisasi project\n"
   ]
  },
  {
   "cell_type": "code",
   "execution_count": 2,
   "metadata": {},
   "outputs": [
    {
     "name": "stdout",
     "output_type": "stream",
     "text": [
      "./Dataset\\ratings_Electronics (1).csv\n"
     ]
    }
   ],
   "source": [
    "import numpy as np # linear algebra\n",
    "import pandas as pd # data processing, CSV file I/O (e.g. pd.read_csv)\n",
    "import os\n",
    "from IPython.core.interactiveshell import InteractiveShell\n",
    "InteractiveShell.ast_node_interactivity = \"all\"\n",
    "import math\n",
    "import json\n",
    "import time\n",
    "import matplotlib.pyplot as plt\n",
    "import joblib\n",
    "import seaborn as sns\n",
    "from sklearn.metrics.pairwise import cosine_similarity\n",
    "from sklearn.model_selection import train_test_split\n",
    "from sklearn.neighbors import NearestNeighbors\n",
    "import scipy.sparse\n",
    "from scipy.sparse import csr_matrix\n",
    "from scipy.sparse.linalg import svds\n",
    "import warnings; warnings.simplefilter('ignore')\n",
    "%matplotlib inline\n",
    "\n",
    "for dirname, _, filenames in os.walk('./Dataset'):\n",
    "    for filename in filenames:\n",
    "        print(os.path.join(dirname, filename))\n"
   ]
  },
  {
   "cell_type": "markdown",
   "metadata": {},
   "source": [
    "Di sini saya memuat dataset yang sudah saya unduh di local"
   ]
  },
  {
   "cell_type": "code",
   "execution_count": 4,
   "metadata": {},
   "outputs": [],
   "source": [
    "electronics_data=pd.read_csv(\"./Dataset/ratings_Electronics (1).csv\",names=['userId', 'productId','Rating','timestamp'])"
   ]
  },
  {
   "cell_type": "markdown",
   "metadata": {},
   "source": [
    "Display data"
   ]
  },
  {
   "cell_type": "code",
   "execution_count": 5,
   "metadata": {},
   "outputs": [
    {
     "data": {
      "text/html": [
       "<div>\n",
       "<style scoped>\n",
       "    .dataframe tbody tr th:only-of-type {\n",
       "        vertical-align: middle;\n",
       "    }\n",
       "\n",
       "    .dataframe tbody tr th {\n",
       "        vertical-align: top;\n",
       "    }\n",
       "\n",
       "    .dataframe thead th {\n",
       "        text-align: right;\n",
       "    }\n",
       "</style>\n",
       "<table border=\"1\" class=\"dataframe\">\n",
       "  <thead>\n",
       "    <tr style=\"text-align: right;\">\n",
       "      <th></th>\n",
       "      <th>userId</th>\n",
       "      <th>productId</th>\n",
       "      <th>Rating</th>\n",
       "      <th>timestamp</th>\n",
       "    </tr>\n",
       "  </thead>\n",
       "  <tbody>\n",
       "    <tr>\n",
       "      <th>0</th>\n",
       "      <td>AKM1MP6P0OYPR</td>\n",
       "      <td>0132793040</td>\n",
       "      <td>5.0</td>\n",
       "      <td>1365811200</td>\n",
       "    </tr>\n",
       "    <tr>\n",
       "      <th>1</th>\n",
       "      <td>A2CX7LUOHB2NDG</td>\n",
       "      <td>0321732944</td>\n",
       "      <td>5.0</td>\n",
       "      <td>1341100800</td>\n",
       "    </tr>\n",
       "    <tr>\n",
       "      <th>2</th>\n",
       "      <td>A2NWSAGRHCP8N5</td>\n",
       "      <td>0439886341</td>\n",
       "      <td>1.0</td>\n",
       "      <td>1367193600</td>\n",
       "    </tr>\n",
       "    <tr>\n",
       "      <th>3</th>\n",
       "      <td>A2WNBOD3WNDNKT</td>\n",
       "      <td>0439886341</td>\n",
       "      <td>3.0</td>\n",
       "      <td>1374451200</td>\n",
       "    </tr>\n",
       "    <tr>\n",
       "      <th>4</th>\n",
       "      <td>A1GI0U4ZRJA8WN</td>\n",
       "      <td>0439886341</td>\n",
       "      <td>1.0</td>\n",
       "      <td>1334707200</td>\n",
       "    </tr>\n",
       "  </tbody>\n",
       "</table>\n",
       "</div>"
      ],
      "text/plain": [
       "           userId   productId  Rating   timestamp\n",
       "0   AKM1MP6P0OYPR  0132793040     5.0  1365811200\n",
       "1  A2CX7LUOHB2NDG  0321732944     5.0  1341100800\n",
       "2  A2NWSAGRHCP8N5  0439886341     1.0  1367193600\n",
       "3  A2WNBOD3WNDNKT  0439886341     3.0  1374451200\n",
       "4  A1GI0U4ZRJA8WN  0439886341     1.0  1334707200"
      ]
     },
     "execution_count": 5,
     "metadata": {},
     "output_type": "execute_result"
    }
   ],
   "source": [
    "# Display the data\n",
    "\n",
    "electronics_data.head()"
   ]
  },
  {
   "cell_type": "markdown",
   "metadata": {},
   "source": [
    "Melihat shape atau jumlah data\n"
   ]
  },
  {
   "cell_type": "code",
   "execution_count": 6,
   "metadata": {},
   "outputs": [
    {
     "data": {
      "text/plain": [
       "(7824482, 4)"
      ]
     },
     "execution_count": 6,
     "metadata": {},
     "output_type": "execute_result"
    }
   ],
   "source": [
    "#Shape of the data\n",
    "electronics_data.shape"
   ]
  },
  {
   "cell_type": "markdown",
   "metadata": {},
   "source": [
    "terlihat bahwa data memiliki\n",
    "\n",
    "- DataFrame electronics_data memiliki - 7.824.482 baris.\n",
    "- DataFrame tersebut memiliki 4 kolom."
   ]
  },
  {
   "cell_type": "markdown",
   "metadata": {},
   "source": [
    "mengambil subset dataset"
   ]
  },
  {
   "cell_type": "code",
   "execution_count": 7,
   "metadata": {},
   "outputs": [],
   "source": [
    "#Taking subset of the dataset\n",
    "electronics_data=electronics_data.iloc[:1048576,0:]"
   ]
  },
  {
   "cell_type": "markdown",
   "metadata": {},
   "source": [
    "Melihat tipe data di setiap atribut "
   ]
  },
  {
   "cell_type": "code",
   "execution_count": 8,
   "metadata": {},
   "outputs": [
    {
     "data": {
      "text/plain": [
       "userId        object\n",
       "productId     object\n",
       "Rating       float64\n",
       "timestamp      int64\n",
       "dtype: object"
      ]
     },
     "execution_count": 8,
     "metadata": {},
     "output_type": "execute_result"
    }
   ],
   "source": [
    "#Check the datatypes\n",
    "electronics_data.dtypes"
   ]
  }
 ],
 "metadata": {
  "kernelspec": {
   "display_name": "recomSys",
   "language": "python",
   "name": "python3"
  },
  "language_info": {
   "codemirror_mode": {
    "name": "ipython",
    "version": 3
   },
   "file_extension": ".py",
   "mimetype": "text/x-python",
   "name": "python",
   "nbconvert_exporter": "python",
   "pygments_lexer": "ipython3",
   "version": "3.10.0"
  }
 },
 "nbformat": 4,
 "nbformat_minor": 2
}
